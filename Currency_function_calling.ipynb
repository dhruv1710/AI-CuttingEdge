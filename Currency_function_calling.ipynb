{
  "nbformat": 4,
  "nbformat_minor": 0,
  "metadata": {
    "colab": {
      "provenance": [],
      "authorship_tag": "ABX9TyOzqOA+5DBygqYk93aqydo8",
      "include_colab_link": true
    },
    "kernelspec": {
      "name": "python3",
      "display_name": "Python 3"
    },
    "language_info": {
      "name": "python"
    }
  },
  "cells": [
    {
      "cell_type": "markdown",
      "metadata": {
        "id": "view-in-github",
        "colab_type": "text"
      },
      "source": [
        "<a href=\"https://colab.research.google.com/github/dhruv1710/AI-CuttingEdge/blob/main/Currency_function_calling.ipynb\" target=\"_parent\"><img src=\"https://colab.research.google.com/assets/colab-badge.svg\" alt=\"Open In Colab\"/></a>"
      ]
    },
    {
      "cell_type": "code",
      "execution_count": null,
      "metadata": {
        "colab": {
          "base_uri": "https://localhost:8080/",
          "height": 864
        },
        "id": "MQmE668kjm8R",
        "outputId": "435a3fde-dc40-4e1e-adf0-4cc0455a045d"
      },
      "outputs": [
        {
          "output_type": "stream",
          "name": "stdout",
          "text": [
            "Requirement already satisfied: google-cloud-aiplatform in /usr/local/lib/python3.10/dist-packages (1.56.0)\n",
            "Collecting google-cloud-aiplatform\n",
            "  Downloading google_cloud_aiplatform-1.57.0-py2.py3-none-any.whl (5.1 MB)\n",
            "\u001b[2K     \u001b[90m━━━━━━━━━━━━━━━━━━━━━━━━━━━━━━━━━━━━━━━━\u001b[0m \u001b[32m5.1/5.1 MB\u001b[0m \u001b[31m31.0 MB/s\u001b[0m eta \u001b[36m0:00:00\u001b[0m\n",
            "\u001b[?25hRequirement already satisfied: google-api-core[grpc]!=2.0.*,!=2.1.*,!=2.2.*,!=2.3.*,!=2.4.*,!=2.5.*,!=2.6.*,!=2.7.*,<3.0.0dev,>=1.34.1 in /usr/local/lib/python3.10/dist-packages (from google-cloud-aiplatform) (2.11.1)\n",
            "Requirement already satisfied: google-auth<3.0.0dev,>=2.14.1 in /usr/local/lib/python3.10/dist-packages (from google-cloud-aiplatform) (2.27.0)\n",
            "Requirement already satisfied: proto-plus<2.0.0dev,>=1.22.0 in /usr/local/lib/python3.10/dist-packages (from google-cloud-aiplatform) (1.24.0)\n",
            "Requirement already satisfied: protobuf!=3.20.0,!=3.20.1,!=4.21.0,!=4.21.1,!=4.21.2,!=4.21.3,!=4.21.4,!=4.21.5,<5.0.0dev,>=3.19.5 in /usr/local/lib/python3.10/dist-packages (from google-cloud-aiplatform) (3.20.3)\n",
            "Requirement already satisfied: packaging>=14.3 in /usr/local/lib/python3.10/dist-packages (from google-cloud-aiplatform) (24.1)\n",
            "Requirement already satisfied: google-cloud-storage<3.0.0dev,>=1.32.0 in /usr/local/lib/python3.10/dist-packages (from google-cloud-aiplatform) (2.8.0)\n",
            "Requirement already satisfied: google-cloud-bigquery!=3.20.0,<4.0.0dev,>=1.15.0 in /usr/local/lib/python3.10/dist-packages (from google-cloud-aiplatform) (3.21.0)\n",
            "Requirement already satisfied: google-cloud-resource-manager<3.0.0dev,>=1.3.3 in /usr/local/lib/python3.10/dist-packages (from google-cloud-aiplatform) (1.12.3)\n",
            "Requirement already satisfied: shapely<3.0.0dev in /usr/local/lib/python3.10/dist-packages (from google-cloud-aiplatform) (2.0.4)\n",
            "Requirement already satisfied: pydantic<3 in /usr/local/lib/python3.10/dist-packages (from google-cloud-aiplatform) (2.7.4)\n",
            "Requirement already satisfied: docstring-parser<1 in /usr/local/lib/python3.10/dist-packages (from google-cloud-aiplatform) (0.16)\n",
            "Requirement already satisfied: googleapis-common-protos<2.0.dev0,>=1.56.2 in /usr/local/lib/python3.10/dist-packages (from google-api-core[grpc]!=2.0.*,!=2.1.*,!=2.2.*,!=2.3.*,!=2.4.*,!=2.5.*,!=2.6.*,!=2.7.*,<3.0.0dev,>=1.34.1->google-cloud-aiplatform) (1.63.1)\n",
            "Requirement already satisfied: requests<3.0.0.dev0,>=2.18.0 in /usr/local/lib/python3.10/dist-packages (from google-api-core[grpc]!=2.0.*,!=2.1.*,!=2.2.*,!=2.3.*,!=2.4.*,!=2.5.*,!=2.6.*,!=2.7.*,<3.0.0dev,>=1.34.1->google-cloud-aiplatform) (2.31.0)\n",
            "Requirement already satisfied: grpcio<2.0dev,>=1.33.2 in /usr/local/lib/python3.10/dist-packages (from google-api-core[grpc]!=2.0.*,!=2.1.*,!=2.2.*,!=2.3.*,!=2.4.*,!=2.5.*,!=2.6.*,!=2.7.*,<3.0.0dev,>=1.34.1->google-cloud-aiplatform) (1.64.1)\n",
            "Requirement already satisfied: grpcio-status<2.0.dev0,>=1.33.2 in /usr/local/lib/python3.10/dist-packages (from google-api-core[grpc]!=2.0.*,!=2.1.*,!=2.2.*,!=2.3.*,!=2.4.*,!=2.5.*,!=2.6.*,!=2.7.*,<3.0.0dev,>=1.34.1->google-cloud-aiplatform) (1.48.2)\n",
            "Requirement already satisfied: cachetools<6.0,>=2.0.0 in /usr/local/lib/python3.10/dist-packages (from google-auth<3.0.0dev,>=2.14.1->google-cloud-aiplatform) (5.3.3)\n",
            "Requirement already satisfied: pyasn1-modules>=0.2.1 in /usr/local/lib/python3.10/dist-packages (from google-auth<3.0.0dev,>=2.14.1->google-cloud-aiplatform) (0.4.0)\n",
            "Requirement already satisfied: rsa<5,>=3.1.4 in /usr/local/lib/python3.10/dist-packages (from google-auth<3.0.0dev,>=2.14.1->google-cloud-aiplatform) (4.9)\n",
            "Requirement already satisfied: google-cloud-core<3.0.0dev,>=1.6.0 in /usr/local/lib/python3.10/dist-packages (from google-cloud-bigquery!=3.20.0,<4.0.0dev,>=1.15.0->google-cloud-aiplatform) (2.3.3)\n",
            "Requirement already satisfied: google-resumable-media<3.0dev,>=0.6.0 in /usr/local/lib/python3.10/dist-packages (from google-cloud-bigquery!=3.20.0,<4.0.0dev,>=1.15.0->google-cloud-aiplatform) (2.7.1)\n",
            "Requirement already satisfied: python-dateutil<3.0dev,>=2.7.2 in /usr/local/lib/python3.10/dist-packages (from google-cloud-bigquery!=3.20.0,<4.0.0dev,>=1.15.0->google-cloud-aiplatform) (2.8.2)\n",
            "Requirement already satisfied: grpc-google-iam-v1<1.0.0dev,>=0.12.4 in /usr/local/lib/python3.10/dist-packages (from google-cloud-resource-manager<3.0.0dev,>=1.3.3->google-cloud-aiplatform) (0.13.0)\n",
            "Requirement already satisfied: annotated-types>=0.4.0 in /usr/local/lib/python3.10/dist-packages (from pydantic<3->google-cloud-aiplatform) (0.7.0)\n",
            "Requirement already satisfied: pydantic-core==2.18.4 in /usr/local/lib/python3.10/dist-packages (from pydantic<3->google-cloud-aiplatform) (2.18.4)\n",
            "Requirement already satisfied: typing-extensions>=4.6.1 in /usr/local/lib/python3.10/dist-packages (from pydantic<3->google-cloud-aiplatform) (4.12.2)\n",
            "Requirement already satisfied: numpy<3,>=1.14 in /usr/local/lib/python3.10/dist-packages (from shapely<3.0.0dev->google-cloud-aiplatform) (1.25.2)\n",
            "Requirement already satisfied: google-crc32c<2.0dev,>=1.0 in /usr/local/lib/python3.10/dist-packages (from google-resumable-media<3.0dev,>=0.6.0->google-cloud-bigquery!=3.20.0,<4.0.0dev,>=1.15.0->google-cloud-aiplatform) (1.5.0)\n",
            "Requirement already satisfied: pyasn1<0.7.0,>=0.4.6 in /usr/local/lib/python3.10/dist-packages (from pyasn1-modules>=0.2.1->google-auth<3.0.0dev,>=2.14.1->google-cloud-aiplatform) (0.6.0)\n",
            "Requirement already satisfied: six>=1.5 in /usr/local/lib/python3.10/dist-packages (from python-dateutil<3.0dev,>=2.7.2->google-cloud-bigquery!=3.20.0,<4.0.0dev,>=1.15.0->google-cloud-aiplatform) (1.16.0)\n",
            "Requirement already satisfied: charset-normalizer<4,>=2 in /usr/local/lib/python3.10/dist-packages (from requests<3.0.0.dev0,>=2.18.0->google-api-core[grpc]!=2.0.*,!=2.1.*,!=2.2.*,!=2.3.*,!=2.4.*,!=2.5.*,!=2.6.*,!=2.7.*,<3.0.0dev,>=1.34.1->google-cloud-aiplatform) (3.3.2)\n",
            "Requirement already satisfied: idna<4,>=2.5 in /usr/local/lib/python3.10/dist-packages (from requests<3.0.0.dev0,>=2.18.0->google-api-core[grpc]!=2.0.*,!=2.1.*,!=2.2.*,!=2.3.*,!=2.4.*,!=2.5.*,!=2.6.*,!=2.7.*,<3.0.0dev,>=1.34.1->google-cloud-aiplatform) (3.7)\n",
            "Requirement already satisfied: urllib3<3,>=1.21.1 in /usr/local/lib/python3.10/dist-packages (from requests<3.0.0.dev0,>=2.18.0->google-api-core[grpc]!=2.0.*,!=2.1.*,!=2.2.*,!=2.3.*,!=2.4.*,!=2.5.*,!=2.6.*,!=2.7.*,<3.0.0dev,>=1.34.1->google-cloud-aiplatform) (2.0.7)\n",
            "Requirement already satisfied: certifi>=2017.4.17 in /usr/local/lib/python3.10/dist-packages (from requests<3.0.0.dev0,>=2.18.0->google-api-core[grpc]!=2.0.*,!=2.1.*,!=2.2.*,!=2.3.*,!=2.4.*,!=2.5.*,!=2.6.*,!=2.7.*,<3.0.0dev,>=1.34.1->google-cloud-aiplatform) (2024.6.2)\n",
            "Installing collected packages: google-cloud-aiplatform\n",
            "  Attempting uninstall: google-cloud-aiplatform\n",
            "    Found existing installation: google-cloud-aiplatform 1.56.0\n",
            "    Uninstalling google-cloud-aiplatform-1.56.0:\n",
            "      Successfully uninstalled google-cloud-aiplatform-1.56.0\n",
            "Successfully installed google-cloud-aiplatform-1.57.0\n"
          ]
        },
        {
          "output_type": "display_data",
          "data": {
            "application/vnd.colab-display-data+json": {
              "pip_warning": {
                "packages": [
                  "google"
                ]
              },
              "id": "03902c40ef294f70aebe526e62726e23"
            }
          },
          "metadata": {}
        }
      ],
      "source": [
        "!pip install --upgrade google-cloud-aiplatform"
      ]
    },
    {
      "cell_type": "code",
      "source": [
        "from google.colab import auth"
      ],
      "metadata": {
        "id": "o1TEXkN9j4kX"
      },
      "execution_count": null,
      "outputs": []
    },
    {
      "cell_type": "code",
      "source": [
        "auth.authenticate_user()"
      ],
      "metadata": {
        "id": "aE8-8ktXkEqv"
      },
      "execution_count": null,
      "outputs": []
    },
    {
      "cell_type": "code",
      "source": [
        "import vertexai\n",
        "vertexai.init(project = 'encouraging-yen-427905-v6')\n",
        "from vertexai.generative_models import GenerativeModel\n",
        "model = GenerativeModel(\"gemini-1.5-pro-001\")"
      ],
      "metadata": {
        "id": "WVX9cvegkIdz"
      },
      "execution_count": null,
      "outputs": []
    },
    {
      "cell_type": "code",
      "source": [
        "response = model.generate_content(\n",
        "    \"What's the exchange rate for euros to dollars today?\"\n",
        ")\n",
        "print(response.text)"
      ],
      "metadata": {
        "colab": {
          "base_uri": "https://localhost:8080/"
        },
        "id": "bPqFd90dllhv",
        "outputId": "77ef7f1d-9c29-47c5-b63b-2deb527541cb"
      },
      "execution_count": null,
      "outputs": [
        {
          "output_type": "stream",
          "name": "stdout",
          "text": [
            "I do not have access to real-time information, including live exchange rates. \n",
            "\n",
            "To get the most up-to-date exchange rate for euros to dollars, I recommend checking a reliable online source such as:\n",
            "\n",
            "* **Google Finance:** Search \"EUR to USD\" \n",
            "* **XE.com:** This website specializes in currency conversions.\n",
            "* **Your Bank's Website:** Most banks provide current exchange rates for their customers.\n",
            "\n",
            "Keep in mind that exchange rates fluctuate constantly, so the rate you see at any given moment may change. \n",
            "\n"
          ]
        }
      ]
    },
    {
      "cell_type": "code",
      "source": [
        "user_prompt = \"What's the exchange rate from euros to US dollars today?\"\n",
        "\n",
        "response = model.generate_content('''\n",
        "Your task is to extract parameters from the user's input and return it as a\n",
        "structured JSON payload. The user will ask about the exchange rate and which\n",
        "currency they are converting from and converting to.\n",
        "\n",
        "User input: {user_prompt}\n",
        "\n",
        "Please extract the currencies as parameters and put them in a JSON object as per the following example.\n",
        "{{\n",
        "  'from_currency': 'USD',\n",
        "  'to_currency': 'EUR',\n",
        "}}\n",
        "'''.format(user_prompt=user_prompt))\n",
        "print(response.text)"
      ],
      "metadata": {
        "id": "6pYBQw-Klner",
        "colab": {
          "base_uri": "https://localhost:8080/"
        },
        "outputId": "21a510be-84c4-42a8-d8b3-31562f44db0a"
      },
      "execution_count": 10,
      "outputs": [
        {
          "output_type": "stream",
          "name": "stdout",
          "text": [
            "```json\n",
            "{\n",
            "  'from_currency': 'EUR',\n",
            "  'to_currency': 'USD'\n",
            "}\n",
            "``` \n",
            "\n"
          ]
        }
      ]
    },
    {
      "cell_type": "code",
      "source": [
        "import requests\n",
        "url = \"https://api.frankfurter.app/latest\"\n",
        "response = requests.get(url)\n",
        "response.text"
      ],
      "metadata": {
        "colab": {
          "base_uri": "https://localhost:8080/",
          "height": 69
        },
        "id": "55TVdkWBnvYU",
        "outputId": "6ee9747a-3751-4677-dc6d-46d0b16fa129"
      },
      "execution_count": 11,
      "outputs": [
        {
          "output_type": "execute_result",
          "data": {
            "text/plain": [
              "'{\"amount\":1.0,\"base\":\"EUR\",\"date\":\"2024-06-28\",\"rates\":{\"AUD\":1.6079,\"BGN\":1.9558,\"BRL\":5.8915,\"CAD\":1.467,\"CHF\":0.9634,\"CNY\":7.7748,\"CZK\":25.025,\"DKK\":7.4575,\"GBP\":0.84638,\"HKD\":8.3594,\"HUF\":395.1,\"IDR\":17487,\"ILS\":4.02,\"INR\":89.25,\"ISK\":148.9,\"JPY\":171.94,\"KRW\":1474.86,\"MXN\":19.5654,\"MYR\":5.0501,\"NOK\":11.3965,\"NZD\":1.7601,\"PHP\":62.56,\"PLN\":4.309,\"RON\":4.9773,\"SEK\":11.3595,\"SGD\":1.4513,\"THB\":39.319,\"TRY\":35.187,\"USD\":1.0705,\"ZAR\":19.497}}'"
            ],
            "application/vnd.google.colaboratory.intrinsic+json": {
              "type": "string"
            }
          },
          "metadata": {},
          "execution_count": 11
        }
      ]
    },
    {
      "cell_type": "code",
      "source": [
        "from vertexai.generative_models import (\n",
        "    Content,\n",
        "    FunctionDeclaration,\n",
        "    GenerativeModel,\n",
        "    Part,\n",
        "    Tool,\n",
        ")\n",
        "\n",
        "model = GenerativeModel(\"gemini-1.5-pro-001\")"
      ],
      "metadata": {
        "id": "QsSc7t28pL9C"
      },
      "execution_count": 12,
      "outputs": []
    },
    {
      "cell_type": "code",
      "source": [
        "get_exchange_rate_func = FunctionDeclaration(\n",
        "    name=\"get_exchange_rate\",\n",
        "    description=\"Get the exchange rate for currencies between countries\",\n",
        "    parameters={\n",
        "    \"type\": \"object\",\n",
        "    \"properties\": {\n",
        "        \"currency_date\": {\n",
        "            \"type\": \"string\",\n",
        "            \"description\": \"A date that must always be in YYYY-MM-DD format or the value 'latest' if a time period is not specified\"\n",
        "        },\n",
        "        \"currency_from\": {\n",
        "            \"type\": \"string\",\n",
        "            \"description\": \"The currency to convert from in ISO 4217 format\"\n",
        "        },\n",
        "        \"currency_to\": {\n",
        "            \"type\": \"string\",\n",
        "            \"description\": \"The currency to convert to in ISO 4217 format\"\n",
        "        }\n",
        "    },\n",
        "         \"required\": [\n",
        "            \"currency_from\",\n",
        "            \"currency_date\",\n",
        "      ]\n",
        "  },\n",
        ")"
      ],
      "metadata": {
        "id": "X7bYeIvtpxfR"
      },
      "execution_count": 13,
      "outputs": []
    },
    {
      "cell_type": "code",
      "source": [
        "exchange_rate_tool = Tool(\n",
        "    function_declarations=[get_exchange_rate_func],\n",
        ")"
      ],
      "metadata": {
        "id": "8ZGjjqxmp0_V"
      },
      "execution_count": 14,
      "outputs": []
    },
    {
      "cell_type": "code",
      "source": [
        "prompt = \"\"\"What is the exchange rate from Australian dollars to Swedish krona?\n",
        "How much is 500 Australian dollars worth in Swedish krona?\"\"\"\n",
        "\n",
        "response = model.generate_content(\n",
        "    prompt,\n",
        "    tools=[exchange_rate_tool],\n",
        ")"
      ],
      "metadata": {
        "id": "fIzRSDnyqBX5"
      },
      "execution_count": 15,
      "outputs": []
    },
    {
      "cell_type": "code",
      "source": [
        "params = {}\n",
        "for key, value in response.candidates[0].content.parts[0].function_call.args.items():\n",
        "    params[key[9:]] = value\n",
        "params"
      ],
      "metadata": {
        "colab": {
          "base_uri": "https://localhost:8080/"
        },
        "id": "DsHOhdd3qTZS",
        "outputId": "8991295f-a57d-4865-e14b-43ea5024b2f9"
      },
      "execution_count": 16,
      "outputs": [
        {
          "output_type": "execute_result",
          "data": {
            "text/plain": [
              "{'date': 'latest', 'from': 'AUD', 'to': 'SEK'}"
            ]
          },
          "metadata": {},
          "execution_count": 16
        }
      ]
    },
    {
      "cell_type": "code",
      "source": [
        "import requests\n",
        "url = f\"https://api.frankfurter.app/{params['date']}\"\n",
        "api_response = requests.get(url, params=params)\n",
        "api_response.text"
      ],
      "metadata": {
        "colab": {
          "base_uri": "https://localhost:8080/",
          "height": 35
        },
        "id": "uZABDFUiqmSt",
        "outputId": "6fab1867-3294-4cc8-f7d9-7c6fb1f6cd57"
      },
      "execution_count": 17,
      "outputs": [
        {
          "output_type": "execute_result",
          "data": {
            "text/plain": [
              "'{\"amount\":1.0,\"base\":\"AUD\",\"date\":\"2024-06-28\",\"rates\":{\"SEK\":7.0648}}'"
            ],
            "application/vnd.google.colaboratory.intrinsic+json": {
              "type": "string"
            }
          },
          "metadata": {},
          "execution_count": 17
        }
      ]
    },
    {
      "cell_type": "code",
      "source": [
        "response = model.generate_content(\n",
        "    [\n",
        "    Content(role=\"user\", parts=[\n",
        "        Part.from_text(prompt + \"\"\"Give your answer in steps with lots of detail\n",
        "            and context, including the exchange rate and date.\"\"\"),\n",
        "    ]),\n",
        "    Content(role=\"function\", parts=[\n",
        "        Part.from_dict({\n",
        "            \"function_call\": {\n",
        "                \"name\": \"get_exchange_rate\",\n",
        "            }\n",
        "        })\n",
        "    ]),\n",
        "    Content(role=\"function\", parts=[\n",
        "        Part.from_function_response(\n",
        "            name=\"get_exchange_rate\",\n",
        "            response={\n",
        "                \"content\": api_response.text,\n",
        "            }\n",
        "        )\n",
        "    ]),\n",
        "    ],\n",
        "    tools=[exchange_rate_tool],\n",
        ")\n",
        "\n",
        "\n",
        "response.candidates[0].content.parts[0].text"
      ],
      "metadata": {
        "colab": {
          "base_uri": "https://localhost:8080/",
          "height": 86
        },
        "id": "Wyu6X537rpZ4",
        "outputId": "89d23297-0969-41b1-e6f8-367e49b8878e"
      },
      "execution_count": 18,
      "outputs": [
        {
          "output_type": "execute_result",
          "data": {
            "text/plain": [
              "'To calculate how much 500 Australian dollars is worth in Swedish krona, we need to get the latest exchange rate between these two currencies. \\n\\nAccording to the latest data (as of 2024-06-28), 1 Australian dollar (AUD) is equal to 7.0648 Swedish krona (SEK).\\n\\nTherefore, to calculate how much 500 AUD is worth in SEK, we can simply multiply the amount in AUD by the exchange rate:\\n\\n500 AUD * 7.0648 SEK/AUD = 3532.40 SEK\\n\\nTherefore, 500 Australian dollars are worth 3532.40 Swedish krona as of June 28, 2024. \\n'"
            ],
            "application/vnd.google.colaboratory.intrinsic+json": {
              "type": "string"
            }
          },
          "metadata": {},
          "execution_count": 18
        }
      ]
    },
    {
      "cell_type": "code",
      "source": [],
      "metadata": {
        "id": "wUzj8kQ5sMY3"
      },
      "execution_count": null,
      "outputs": []
    }
  ]
}